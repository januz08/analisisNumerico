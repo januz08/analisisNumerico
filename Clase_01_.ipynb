{
  "nbformat": 4,
  "nbformat_minor": 0,
  "metadata": {
    "colab": {
      "provenance": [],
      "authorship_tag": "ABX9TyO1rUYjMF71FMYNhsCQ51xG",
      "include_colab_link": true
    },
    "kernelspec": {
      "name": "python3",
      "display_name": "Python 3"
    },
    "language_info": {
      "name": "python"
    }
  },
  "cells": [
    {
      "cell_type": "markdown",
      "metadata": {
        "id": "view-in-github",
        "colab_type": "text"
      },
      "source": [
        "<a href=\"https://colab.research.google.com/github/januz08/analisisNumerico/blob/master/Clase_01_.ipynb\" target=\"_parent\"><img src=\"https://colab.research.google.com/assets/colab-badge.svg\" alt=\"Open In Colab\"/></a>"
      ]
    },
    {
      "cell_type": "markdown",
      "source": [
        "# <span style=\"color:navy\"> **Análisis Numérico - Clase 00**</span>\n",
        "# <span style=\"color:navy\"> **Lenguaje Python - Nociones introductorias, Módulos Numpy  Matplotlib**</span>\n",
        "\n",
        "---\n",
        "\n"
      ],
      "metadata": {
        "id": "rdi4KhyyxA6C"
      }
    },
    {
      "cell_type": "markdown",
      "source": [
        "## <span style=\"color:navy\"> **Lenguaje Python**</span>\n",
        "\n",
        "Es un lenguaje de programación interpretado cuya filosofía hace hincapié en la legibilidad de su código.2​ Se trata de un lenguaje de programación multiparadigma, ya que soporta orientación a objetos, programación imperativa y, en menor medida, programación funcional. Es un lenguaje interpretado, dinámico y multiplataforma.\n",
        "\n",
        "Es administrado por la Python Software Foundation. Posee una licencia de código abierto, denominada Python Software Foundation License.\n",
        "\n",
        "Python es un lenguaje de programación multiparadigma. Esto significa que más que forzar a los programadores a adoptar un estilo particular de programación, permite varios estilos: programación orientada a objetos, programación imperativa y programación funcional. Otros paradigmas están soportados mediante el uso de extensiones.\n",
        "\n",
        "Python usa tipado dinámico y conteo de referencias para la administración de memoria.\n",
        "\n",
        "Una característica importante de Python es la resolución dinámica de nombres; es decir, lo que enlaza un método y un nombre de variable durante la ejecución del programa (también llamado enlace dinámico de métodos). "
      ],
      "metadata": {
        "id": "QFfx2MZ3xIjW"
      }
    },
    {
      "cell_type": "markdown",
      "source": [
        "## <span style=\"color:navy\"> **IDE Python**</span>\n",
        "\n",
        "Al instalar Anaconda podemos trabajar en Python de tres formas distintas:\n",
        "\n",
        "   * <span style=\"color:blue; font-family:Courier; font-weight:bold\">spyder</span>:  es un entorno interactivo para escribir código Python que facilita la edición y el debugging de una forma sencilla. Lo utilizaremos para escribir el <strong>código de los ejercicios</strong>.\n",
        "   \n",
        "   Puede abrirse o bien desde un lanzador de Spyder en el escritorio o desde el menú de Inicio. En cualquier caso, siempre se puede abrir `spyder` desde la línea de comandos tecleando <strong><code>spyder</code></strong>.\n",
        "\n",
        "   * <span style=\"color:blue; font-family:Courier; font-weight:bold\">consola:</span> es la interación básica con Python.\n",
        "   \n",
        "   Simplemente abrir la consola y ejecutar  <strong><code>python</code></strong>. Así entraríamos en python en línea de comandos. También se puede usar la consola para ejecutar un programa python tecleando <strong><code> python program_name.py</code></strong>.\n",
        "\n",
        "   * <span style=\"color:blue; font-family:Courier; font-weight:bold\">jupyter notebook</span>: es un entorno interactivo en el que se combinan ejecución de código, texto enriquecido, fórmulas matemáticas (LaTex), gráficos , videos, animaciones, etc.\n",
        "   \n",
        "   Abrir la consola e ir a la carpeta donde hemos guardado el código (o queremos guardar el código) y ejecutar <strong><code>jupyter notebook</code></strong>. Se abrirá una ventana nueva del navegador por defecto, donde podemos leer los ficheros existentes con sufijo `.ipynb` o crear ficheros nuevos.\n"
      ],
      "metadata": {
        "id": "sdunMmbhxNB2"
      }
    },
    {
      "cell_type": "markdown",
      "source": [
        "## <span style=\"color:navy\"> **1. Números**</span>\n",
        "Python se escribe dinámicamente y asignar algo a una variable le dará ese tipo."
      ],
      "metadata": {
        "id": "EDe6_tJwxRco"
      }
    },
    {
      "cell_type": "code",
      "source": [
        "# Tres tipos básicos de números\n",
        "a = 1        # enteros\n",
        "b = 2.0      # Números de coma flotante\n",
        "c = 3.0 + 4j # Números complejos, observe el uso de j para la parte compleja\n",
        "\n",
        "\n",
        "# La aritmética funciona como se esperaba.\n",
        "# Upcasting desde int -> float -> complex\n",
        "\n",
        "# (int + float = float)\n",
        "d = a + b \n",
        "print('\\nd = ',d)\n",
        "\n",
        "# c elevado a la segunda potencia, realiza una multiplicación compleja\n",
        "e = c ** 2 \n",
        "print('\\ne = ',e)"
      ],
      "metadata": {
        "colab": {
          "base_uri": "https://localhost:8080/"
        },
        "id": "gEsNI9ZAxeaj",
        "outputId": "19d73ae7-564a-4c5e-9487-353da71068b4"
      },
      "execution_count": null,
      "outputs": [
        {
          "output_type": "stream",
          "name": "stdout",
          "text": [
            "\n",
            "d =  3.0\n",
            "\n",
            "e =  (-7+24j)\n"
          ]
        }
      ]
    },
    {
      "cell_type": "markdown",
      "source": [
        "## <span style=\"color:navy\"> **2. Strings**</span>\n",
        "\n",
        "Simplemente encierre algo entre comillas simples o dobles y se convertirá en una cadena. En Python 3, tiene por defecto cadenas Unicode, p. Ej. alfabetos no latinos y otros símbolos."
      ],
      "metadata": {
        "id": "QZosoIZVxaYT"
      }
    },
    {
      "cell_type": "code",
      "source": [
        "# Puede utilizar comillas simples o dobles para crear cadenas.\n",
        "#location = \"Nueva York\"\n",
        "location = \"San Miguel\"\n",
        "\n",
        "# Concatenar cadenas con más.\n",
        "where_am_i = 'Estoy en ' + location\n",
        "\n",
        "# Imprime cosas con la función print ().\n",
        "print('\\n',location, 1, 2)\n",
        "print('\\n',where_am_i)\n",
        "\n",
        "# Las cadenas tienen muchos métodos adjuntos para manipulaciones comunes.\n",
        "print('\\n',location.lower())\n",
        "\n",
        "print(location.capitalize())\n",
        "\n",
        "# Acceda a elementos individuales con corchetes. Los índices negativos son del reverso.\n",
        "print('\\n',location[0], location[-1])\n",
        "\n",
        "# Las cuerdas también se pueden cortar.\n",
        "print('\\n',location[6:])"
      ],
      "metadata": {
        "colab": {
          "base_uri": "https://localhost:8080/"
        },
        "id": "_emg-6A9xsMm",
        "outputId": "4e7041cc-1f50-4152-bb6b-d9a21efdf184"
      },
      "execution_count": null,
      "outputs": [
        {
          "output_type": "stream",
          "name": "stdout",
          "text": [
            "\n",
            " San Miguel 1 2\n",
            "\n",
            " Estoy en San Miguel\n",
            "\n",
            " san miguel\n",
            "San miguel\n",
            "\n",
            " S l\n",
            "\n",
            " guel\n"
          ]
        }
      ]
    },
    {
      "cell_type": "markdown",
      "source": [
        "## <span style=\"color:navy\"> **3. listas**</span>\n",
        "Python tiene dos tipos principales de colecciones: listas y diccionarios. El primero es solo una colección ordenada de objetos y se presenta aquí."
      ],
      "metadata": {
        "id": "N5vlRD2xxylJ"
      }
    },
    {
      "cell_type": "code",
      "source": [
        "# La lista usa corchetes y son colecciones ordenadas simples de cosas.\n",
        "todo = [a, b, c, 1, 2, 3, \"hola\"]\n",
        "\n",
        "# Acceda a elementos con la misma notación de segmentación / indexación que las cadenas.\n",
        "# ¡Tenga en cuenta que los índices de Python están basados en cero!\n",
        "print(todo[0])\n",
        "print(todo[: 3])\n",
        "print(todo[2: -2])\n",
        "\n",
        "# Los índices negativos se cuentan desde el final de la lista.\n",
        "print(todo[-3:])\n",
        "\n",
        "# Agregue cosas con el método append.\n",
        "todo.append(\"usted\")\n",
        "todo.append(\"final\")\n",
        "todo.append(3.7)\n",
        "todo.append(a+c)\n",
        "\n",
        "print(todo)"
      ],
      "metadata": {
        "colab": {
          "base_uri": "https://localhost:8080/"
        },
        "id": "0rpYQftIx10Q",
        "outputId": "4ede8239-b981-4b6f-c4f8-968170303ad6"
      },
      "execution_count": null,
      "outputs": [
        {
          "output_type": "stream",
          "name": "stdout",
          "text": [
            "1\n",
            "[1, 2.0, (3+4j)]\n",
            "[(3+4j), 1, 2]\n",
            "[2, 3, 'hola']\n",
            "[1, 2.0, (3+4j), 1, 2, 3, 'hola', 'usted', 'final', 3.7, (4+4j)]\n"
          ]
        }
      ]
    },
    {
      "cell_type": "markdown",
      "source": [
        "## <span style=\"color:navy\"> **4. Diccionarios**</span>\n",
        "\n",
        "El otro tipo de colección principal en Python son los diccionarios. Son similares a las matrices asociativas o mapas (hash) en otros idiomas. Cada entrada es un par clave-valor."
      ],
      "metadata": {
        "id": "H28rZeqgyPem"
      }
    },
    {
      "cell_type": "code",
      "source": [
        "# Los diccionarios tienen campos con nombre y ningún orden inherente. Como es\n",
        "# el caso de las listas, pueden contener cualquier cosa.\n",
        "information = {\n",
        "     \"nombre\": \"Hans\",\n",
        "     \"apellido\": \"Mustermann\",\n",
        "     \"edad\": 78,\n",
        "     \"niños\": [1, 2, 3]\n",
        "}\n",
        "\n",
        "# Acceda a los elementos utilizando la clave entre corchetes.\n",
        "print(information[\"niños\"])\n",
        "\n",
        "# Agregue cosas nuevas simplemente asignando una tecla.\n",
        "print(information)\n",
        "information[\"música\"] = \"jazz\"\n",
        "print(information)\n",
        "\n",
        "# Elimina cosas usando el operador del\n",
        "del information[\"edad\"]\n",
        "print(information)"
      ],
      "metadata": {
        "id": "TFP3JLWmyOri"
      },
      "execution_count": null,
      "outputs": []
    },
    {
      "cell_type": "markdown",
      "source": [
        "## <span style=\"color:navy\"> **Módulos y paquetes**</span>\n",
        "\n",
        "Para utilizar funciones y objetos que no forman parte del espacio de nombres predeterminado, debe importarlos. Tendrás que hacer esto mucho por lo que es necesario aprender a hacerlo."
      ],
      "metadata": {
        "id": "YNmrXk56yVl5"
      }
    },
    {
      "cell_type": "code",
      "source": [
        "# Importe cualquier cosa y utilícela con el descriptor de acceso de puntos.\n",
        "import math\n",
        "\n",
        "a = math.cos(4 * math.pi)\n",
        "print(a ,'\\n')\n",
        "\n",
        "math.sin(2*math.pi)\n"
      ],
      "metadata": {
        "colab": {
          "base_uri": "https://localhost:8080/"
        },
        "id": "MQYC54qpCoVP",
        "outputId": "00755f7c-60a9-453b-9d41-e9d5806454e8"
      },
      "execution_count": null,
      "outputs": [
        {
          "output_type": "stream",
          "name": "stdout",
          "text": [
            "1.0 \n",
            "\n"
          ]
        },
        {
          "output_type": "execute_result",
          "data": {
            "text/plain": [
              "-2.4492935982947064e-16"
            ]
          },
          "metadata": {},
          "execution_count": 17
        }
      ]
    },
    {
      "cell_type": "code",
      "source": [
        "\n",
        "# También puede importar cosas de forma selectiva.\n",
        "from math import pi\n",
        "\n",
        "b = 3 * pi\n",
        "\n",
        "print(b ,'\\n')\n",
        "\n",
        "# E incluso cámbieles el nombre si no le gusta su nombre.\n",
        "from math import cos as cosine\n",
        "c = cosine(b)\n",
        "print(b, '\\n')\n",
        "\n",
        "from math import sin as senoangulo\n",
        "d = senoangulo(b)\n",
        "print(d, '\\n')"
      ],
      "metadata": {
        "colab": {
          "base_uri": "https://localhost:8080/"
        },
        "id": "-UpVL-AhyVCT",
        "outputId": "d8cf4f7e-2666-40c4-ad6e-5e3b1482b2e3"
      },
      "execution_count": null,
      "outputs": [
        {
          "output_type": "stream",
          "name": "stdout",
          "text": [
            "9.42477796076938 \n",
            "\n",
            "9.42477796076938 \n",
            "\n",
            "3.6739403974420594e-16 \n",
            "\n"
          ]
        }
      ]
    },
    {
      "cell_type": "markdown",
      "source": [
        "## <span style=\"color:navy\"> **Módulos**</span>\n",
        "\n",
        "Python es un lenguaje muy versatil que puede realizar tareas muy distintas. En este curso nos centraremos en **algoritmos numéricos** que se pueden implementar con Python.\n",
        "\n",
        "Python es modular. Un módulo es un programa que contiene, entre otras cosas, las definiciones de las variables y las funciones. A menudo, los módulos se agrupan en paquetes para una determinada aplicación. Por ejemplo, utilizaremos mayormente los paquetes:\n",
        "\n",
        "\n",
        "<ul>\n",
        "<li><span style=\"color:blue; \"> NumPy</span> (numerical python).</li>\n",
        "<li><span style=\"color:blue; \"> Matplotlib</span> (python plotting).</li>\n",
        "<li><span style=\"color:blue; \"> SciPy</span> (scientific python).</li>\n",
        "</ul>\n",
        "\n",
        "Un programa típico Python empieza importando módulos de los paquetes. "
      ],
      "metadata": {
        "id": "1ccGnEM_yri_"
      }
    },
    {
      "cell_type": "markdown",
      "source": [
        "## **Importando el módulo de Numpy**"
      ],
      "metadata": {
        "id": "VUuZOGj4zI5a"
      }
    },
    {
      "cell_type": "code",
      "source": [
        "import numpy as np"
      ],
      "metadata": {
        "id": "_zarJh_szO5N"
      },
      "execution_count": null,
      "outputs": []
    },
    {
      "cell_type": "markdown",
      "source": [
        "Aquí hemos importado todos los módulos de `numpy` y nos referiremos a él con el prefijo `np`:"
      ],
      "metadata": {
        "id": "uwZQOK3bzRNH"
      }
    },
    {
      "cell_type": "code",
      "source": [
        "print(np.pi)"
      ],
      "metadata": {
        "colab": {
          "base_uri": "https://localhost:8080/"
        },
        "id": "H5dAsOrPzQXL",
        "outputId": "67265a41-e20c-4b62-8ed7-5ac8bce1e198"
      },
      "execution_count": null,
      "outputs": [
        {
          "output_type": "stream",
          "name": "stdout",
          "text": [
            "3.141592653589793\n"
          ]
        }
      ]
    },
    {
      "cell_type": "code",
      "source": [
        "print(np.exp(0))"
      ],
      "metadata": {
        "colab": {
          "base_uri": "https://localhost:8080/"
        },
        "id": "eJPwJeUjzcU1",
        "outputId": "6850e5d6-28de-4467-a327-18b3edbd4924"
      },
      "execution_count": null,
      "outputs": [
        {
          "output_type": "stream",
          "name": "stdout",
          "text": [
            "1.0\n"
          ]
        }
      ]
    },
    {
      "cell_type": "markdown",
      "source": [
        "Hay variaciones de la orden `import`. Por ejemplo, si sólo queremos cargar la definición de $\\pi$ usaremos"
      ],
      "metadata": {
        "id": "6BuKqMD5zvw5"
      }
    },
    {
      "cell_type": "code",
      "source": [
        "from numpy import pi as PI\n",
        "\n",
        "print(PI)"
      ],
      "metadata": {
        "id": "5OMJQe7SzxGF",
        "colab": {
          "base_uri": "https://localhost:8080/"
        },
        "outputId": "7af4a0ce-0333-4b4b-98bd-e790b52e2511"
      },
      "execution_count": null,
      "outputs": [
        {
          "output_type": "stream",
          "name": "stdout",
          "text": [
            "3.141592653589793\n"
          ]
        }
      ]
    },
    {
      "cell_type": "code",
      "source": [
        "from numpy import exp as Exponencial\n",
        "\n",
        "print(Exponencial(0))"
      ],
      "metadata": {
        "id": "_XeWph4Qz2p9",
        "colab": {
          "base_uri": "https://localhost:8080/"
        },
        "outputId": "33ecd7b5-f357-4448-aafc-dca5336825b1"
      },
      "execution_count": null,
      "outputs": [
        {
          "output_type": "stream",
          "name": "stdout",
          "text": [
            "1.0\n"
          ]
        }
      ]
    },
    {
      "cell_type": "markdown",
      "source": [
        "### <span style=\"color:navy\"> **Objeto principal de Numpy**</span>\n",
        "\n",
        "El objeto principal de NumPy es el **array multidimensional homogéneo**. *Es una tabla de elementos (habitualmente números), todos del mismo tipo, indexados por una tupla de enteros positivos*. \n",
        "\n",
        "En `NumPy` las dimensiones se llaman **ejes**. El número de ejes es el **rango**.\n",
        "\n",
        "<span style=\"color:navy\"> **Creando un array**</span>\n",
        "\n",
        "Hay muchas formas de crear un array **NumPy**. Por ejemplo,\n",
        "\n",
        "Declarando los vectores y matrices con sus elementos:"
      ],
      "metadata": {
        "id": "sXow10Ekz6T1"
      }
    },
    {
      "cell_type": "code",
      "source": [
        "#Inicializando Vectores\n",
        "\n",
        "x = np.array([1.5,2.0,3,4])\n",
        "\n",
        "#Inicializando Matrices\n",
        "\n",
        "y = np.array([(1,2,3),(4,5,6),(7,8,9)])\n",
        "z = np.array([[1,2,3],[4,5,6],[7,8,9]])\n",
        "\n",
        "\n",
        "vec = [1,2,3,4,5]\n",
        "print(type(vec))\n",
        "\n",
        "vec = np.array(vec)\n",
        "print(type(vec))"
      ],
      "metadata": {
        "colab": {
          "base_uri": "https://localhost:8080/"
        },
        "id": "r_lfAdVr0DYN",
        "outputId": "c72d2d6d-0b16-470f-d050-cae8452b17cb"
      },
      "execution_count": null,
      "outputs": [
        {
          "output_type": "stream",
          "name": "stdout",
          "text": [
            "<class 'list'>\n",
            "<class 'numpy.ndarray'>\n"
          ]
        }
      ]
    },
    {
      "cell_type": "code",
      "source": [
        "print('x = \\n',x,'\\n')\n",
        "print('y = \\n',y,'\\n')\n",
        "print('z = \\n',z,'\\n')"
      ],
      "metadata": {
        "id": "DjsLwqRX0DfD",
        "colab": {
          "base_uri": "https://localhost:8080/"
        },
        "outputId": "3aa49190-0167-481f-8258-f98ed9e85d7b"
      },
      "execution_count": null,
      "outputs": [
        {
          "output_type": "stream",
          "name": "stdout",
          "text": [
            "x = \n",
            " [1.5 2.  3.  4. ] \n",
            "\n",
            "y = \n",
            " [[1 2 3]\n",
            " [4 5 6]\n",
            " [7 8 9]] \n",
            "\n",
            "z = \n",
            " [[1 2 3]\n",
            " [4 5 6]\n",
            " [7 8 9]] \n",
            "\n"
          ]
        }
      ]
    },
    {
      "cell_type": "markdown",
      "source": [
        "Los índices comienzan en `cero`. El índice `-1` da el último elemento del array."
      ],
      "metadata": {
        "id": "dQkwEVz20RPB"
      }
    },
    {
      "cell_type": "code",
      "source": [
        "#Mostrando elementos \n",
        "print('x[0]    = ', x[0], '\\ny[0,0]  = ',y[0,0], '\\nz[0][0] = ',z[0][0])\n",
        "print('x[-1]   = ',x[-1])"
      ],
      "metadata": {
        "id": "-kVGR5Mh0R5j",
        "colab": {
          "base_uri": "https://localhost:8080/"
        },
        "outputId": "51371bd9-2249-46ee-9e02-bbe03a1ec7f2"
      },
      "execution_count": null,
      "outputs": [
        {
          "output_type": "stream",
          "name": "stdout",
          "text": [
            "x[0]    =  1.5 \n",
            "y[0,0]  =  1 \n",
            "z[0][0] =  1\n",
            "x[-1]   =  4.0\n"
          ]
        }
      ]
    },
    {
      "cell_type": "code",
      "source": [
        "#iniciando a cero matrices y vectores\n",
        "\n",
        "vec_row      = np.zeros((1,4))\n",
        "vec_col      = np.zeros((4,1))\n",
        "zero_matrix  = np.zeros((5,5))"
      ],
      "metadata": {
        "id": "L7L6p45m0V0J"
      },
      "execution_count": null,
      "outputs": []
    },
    {
      "cell_type": "code",
      "source": [
        "print('vec_row = \\n',vec_row,'\\n')\n",
        "print('vec_col = \\n',vec_col,'\\n')\n",
        "print('zero_matrix = \\n',zero_matrix,'\\n')"
      ],
      "metadata": {
        "id": "BFakJexy0XZU",
        "colab": {
          "base_uri": "https://localhost:8080/"
        },
        "outputId": "4cea2537-c91c-4c48-8c1b-a525942b3f98"
      },
      "execution_count": null,
      "outputs": [
        {
          "output_type": "stream",
          "name": "stdout",
          "text": [
            "vec_row = \n",
            " [[0. 0. 0. 0.]] \n",
            "\n",
            "vec_col = \n",
            " [[0.]\n",
            " [0.]\n",
            " [0.]\n",
            " [0.]] \n",
            "\n",
            "zero_matrix = \n",
            " [[0. 0. 0. 0. 0.]\n",
            " [0. 0. 0. 0. 0.]\n",
            " [0. 0. 0. 0. 0.]\n",
            " [0. 0. 0. 0. 0.]\n",
            " [0. 0. 0. 0. 0.]] \n",
            "\n"
          ]
        }
      ]
    },
    {
      "cell_type": "code",
      "source": [
        "#iniciando con uno matrices y vectores\n",
        "\n",
        "vec_row      = np.ones((1,4))\n",
        "vec_col      = np.ones((4,1))\n",
        "ones_matrix  = np.ones((5,5))"
      ],
      "metadata": {
        "id": "L7ZzwaFe0Zvv"
      },
      "execution_count": null,
      "outputs": []
    },
    {
      "cell_type": "code",
      "source": [
        "print('vec_row = \\n',vec_row,'\\n')\n",
        "print('vec_col = \\n',vec_col,'\\n')\n",
        "print('ones_matrix = \\n',ones_matrix,'\\n')"
      ],
      "metadata": {
        "id": "ymgL2NPB0bzD",
        "colab": {
          "base_uri": "https://localhost:8080/"
        },
        "outputId": "e789a93c-f1df-49b3-a042-8a94dadd5eb2"
      },
      "execution_count": null,
      "outputs": [
        {
          "output_type": "stream",
          "name": "stdout",
          "text": [
            "vec_row = \n",
            " [[1. 1. 1. 1.]] \n",
            "\n",
            "vec_col = \n",
            " [[1.]\n",
            " [1.]\n",
            " [1.]\n",
            " [1.]] \n",
            "\n",
            "ones_matrix = \n",
            " [[1. 1. 1. 1. 1.]\n",
            " [1. 1. 1. 1. 1.]\n",
            " [1. 1. 1. 1. 1.]\n",
            " [1. 1. 1. 1. 1.]\n",
            " [1. 1. 1. 1. 1.]] \n",
            "\n"
          ]
        }
      ]
    },
    {
      "cell_type": "code",
      "source": [
        "print('vec_row = \\n',45*vec_row,'\\n')"
      ],
      "metadata": {
        "id": "WqL9kA_J0d_w",
        "colab": {
          "base_uri": "https://localhost:8080/"
        },
        "outputId": "683f1d52-17f6-4b7c-e4f8-8bf318b92f0b"
      },
      "execution_count": null,
      "outputs": [
        {
          "output_type": "stream",
          "name": "stdout",
          "text": [
            "vec_row = \n",
            " [[45. 45. 45. 45.]] \n",
            "\n"
          ]
        }
      ]
    },
    {
      "cell_type": "markdown",
      "source": [
        "\n",
        "### <span style=\"color:navy\"> **Operaciones básicas con arrays numpy**</span>\n",
        "\n",
        "Los operadores aritméticos se aplican en los arrays elemento a elemento. ¡Las listas Python funcionan de forma diferente!\n"
      ],
      "metadata": {
        "id": "FOdkjiEO0i4-"
      }
    },
    {
      "cell_type": "code",
      "source": [
        "a = np.array([1, 2, 3, 4])\n",
        "b = np.array([(1.5, 2, 3, 5)])\n",
        "\n",
        "x = [1, 2, 3, 4]\n",
        "y = [1.5, 2, 3, 5]"
      ],
      "metadata": {
        "id": "u8RtdZAX0tv1"
      },
      "execution_count": null,
      "outputs": []
    },
    {
      "cell_type": "code",
      "source": [
        "print('a+b array numpy')\n",
        "print(a+b)\n",
        "\n",
        "print('\\nx+y lista')\n",
        "print(x+y)"
      ],
      "metadata": {
        "id": "-7bCJGBV0uOI",
        "colab": {
          "base_uri": "https://localhost:8080/"
        },
        "outputId": "b0689ce9-1b64-4b65-8844-fcb56ad47f41"
      },
      "execution_count": null,
      "outputs": [
        {
          "output_type": "stream",
          "name": "stdout",
          "text": [
            "a+b array numpy\n",
            "[[2.5 4.  6.  9. ]]\n",
            "\n",
            "x+y lista\n",
            "[1, 2, 3, 4, 1.5, 2, 3, 5]\n"
          ]
        }
      ]
    },
    {
      "cell_type": "code",
      "source": [
        "print('a = \\n', a)\n",
        "print('\\n3+a = \\n', 3+a)\n",
        "print('\\n3*a = \\n', 3*a)\n",
        "print('\\n3/a = \\n', 3/a)\n",
        "print('\\na/2 = \\n', a/2)"
      ],
      "metadata": {
        "id": "Uxx-_2Oc0xjf",
        "colab": {
          "base_uri": "https://localhost:8080/"
        },
        "outputId": "f4d2bddf-f098-4c24-a89c-8848114b0deb"
      },
      "execution_count": null,
      "outputs": [
        {
          "output_type": "stream",
          "name": "stdout",
          "text": [
            "a = \n",
            " [1 2 3 4]\n",
            "\n",
            "3+a = \n",
            " [4 5 6 7]\n",
            "\n",
            "3*a = \n",
            " [ 3  6  9 12]\n",
            "\n",
            "3/a = \n",
            " [3.   1.5  1.   0.75]\n",
            "\n",
            "a/2 = \n",
            " [0.5 1.  1.5 2. ]\n"
          ]
        }
      ]
    },
    {
      "cell_type": "markdown",
      "source": [
        "A diferencia de otros lenguajes, el operador `*` se aplica elemento a elemento en los arrays NumPy."
      ],
      "metadata": {
        "id": "yEMYGsq101yj"
      }
    },
    {
      "cell_type": "code",
      "source": [
        "print('A')\n",
        "print('\\nB')\n",
        "print(B)\n",
        "print('\\nA*B')\n",
        "print(A*B)"
      ],
      "metadata": {
        "id": "eQQRpTmx02NK",
        "colab": {
          "base_uri": "https://localhost:8080/",
          "height": 253
        },
        "outputId": "f1747ab9-3b8b-4be0-c279-c63d9af980b8"
      },
      "execution_count": null,
      "outputs": [
        {
          "output_type": "stream",
          "name": "stdout",
          "text": [
            "A\n"
          ]
        },
        {
          "output_type": "error",
          "ename": "NameError",
          "evalue": "ignored",
          "traceback": [
            "\u001b[0;31m---------------------------------------------------------------------------\u001b[0m",
            "\u001b[0;31mNameError\u001b[0m                                 Traceback (most recent call last)",
            "\u001b[0;32m<ipython-input-36-4b03a79baca6>\u001b[0m in \u001b[0;36m<module>\u001b[0;34m\u001b[0m\n\u001b[1;32m      1\u001b[0m \u001b[0mprint\u001b[0m\u001b[0;34m(\u001b[0m\u001b[0;34m'A'\u001b[0m\u001b[0;34m)\u001b[0m\u001b[0;34m\u001b[0m\u001b[0;34m\u001b[0m\u001b[0m\n\u001b[0;32m----> 2\u001b[0;31m \u001b[0mprint\u001b[0m\u001b[0;34m(\u001b[0m\u001b[0mA\u001b[0m\u001b[0;34m)\u001b[0m\u001b[0;34m\u001b[0m\u001b[0;34m\u001b[0m\u001b[0m\n\u001b[0m\u001b[1;32m      3\u001b[0m \u001b[0mprint\u001b[0m\u001b[0;34m(\u001b[0m\u001b[0;34m'\\nB'\u001b[0m\u001b[0;34m)\u001b[0m\u001b[0;34m\u001b[0m\u001b[0;34m\u001b[0m\u001b[0m\n\u001b[1;32m      4\u001b[0m \u001b[0mprint\u001b[0m\u001b[0;34m(\u001b[0m\u001b[0mB\u001b[0m\u001b[0;34m)\u001b[0m\u001b[0;34m\u001b[0m\u001b[0;34m\u001b[0m\u001b[0m\n\u001b[1;32m      5\u001b[0m \u001b[0mprint\u001b[0m\u001b[0;34m(\u001b[0m\u001b[0;34m'\\nA*B'\u001b[0m\u001b[0;34m)\u001b[0m\u001b[0;34m\u001b[0m\u001b[0;34m\u001b[0m\u001b[0m\n",
            "\u001b[0;31mNameError\u001b[0m: name 'A' is not defined"
          ]
        }
      ]
    },
    {
      "cell_type": "markdown",
      "source": [
        "### <span style=\"color:navy\"> **Funciones elementales**</span>\n",
        "NumPy contiene las funciones matemáticas elementales con sus nombres habituales. Por ejemplo"
      ],
      "metadata": {
        "id": "V7CqC-7B1BV6"
      }
    },
    {
      "cell_type": "code",
      "source": [
        "print(np.sin(PI/2))\n",
        "print(np.exp(-1))\n",
        "print(np.arctan(np.inf))\n",
        "print(np.sqrt(4))"
      ],
      "metadata": {
        "id": "rR7XB-eT05B9",
        "colab": {
          "base_uri": "https://localhost:8080/"
        },
        "outputId": "1c7ac4ef-a385-4a88-a522-b1a6fec603a4"
      },
      "execution_count": null,
      "outputs": [
        {
          "output_type": "stream",
          "name": "stdout",
          "text": [
            "1.0\n",
            "0.36787944117144233\n",
            "1.5707963267948966\n",
            "2.0\n"
          ]
        }
      ]
    },
    {
      "cell_type": "markdown",
      "source": [
        "Si se aplican a un array numpy, el resultado es un array numpy."
      ],
      "metadata": {
        "id": "ZfVIv1HQ1NOb"
      }
    },
    {
      "cell_type": "code",
      "source": [
        "a = np.linspace(2.0,4.0,5)\n",
        "b = np.array([1,4,9,16])"
      ],
      "metadata": {
        "id": "6dQO24OK1ALc"
      },
      "execution_count": null,
      "outputs": []
    },
    {
      "cell_type": "code",
      "source": [
        "print('a =\\n', a)\n",
        "print('\\nnp.sqrt(a) =\\n', np.sqrt(a))\n",
        "print('\\n')\n",
        "print('b =\\n', b)\n",
        "print('\\nnp.sqrt(a) =\\n', np.sqrt(b))"
      ],
      "metadata": {
        "id": "xbDYJadz1KbS",
        "colab": {
          "base_uri": "https://localhost:8080/"
        },
        "outputId": "c2c0bbdf-2be7-4ecf-b6cf-6ac711ce9656"
      },
      "execution_count": null,
      "outputs": [
        {
          "output_type": "stream",
          "name": "stdout",
          "text": [
            "a =\n",
            " [2.  2.5 3.  3.5 4. ]\n",
            "\n",
            "np.sqrt(a) =\n",
            " [1.41421356 1.58113883 1.73205081 1.87082869 2.        ]\n",
            "\n",
            "\n",
            "b =\n",
            " [ 1  4  9 16]\n",
            "\n",
            "np.sqrt(a) =\n",
            " [1. 2. 3. 4.]\n"
          ]
        }
      ]
    },
    {
      "cell_type": "markdown",
      "source": [
        "### <span style=\"color:navy\"> **Definición de funciones**</span>\n",
        "\n",
        "La clave para vencer un gran problema es dividirlo en muchos más pequeños y abordarlos uno por uno. Esto generalmente se logra mediante el uso de funciones.\n",
        "\n",
        "Podemos definir funciones de dos formas:\n",
        "\n",
        "<ul>\n",
        "<li>Usando una función <span style=\"color:green; font-family:Courier; font-weight: bold;\">lambda</span>.</li>\n",
        "<li>Usando <span style=\"color:green; font-family:Courier; font-weight: bold;\">def</span>.</li>\n",
        "</ul>"
      ],
      "metadata": {
        "id": "_WqftRtl1Rii"
      }
    },
    {
      "cell_type": "code",
      "source": [
        "f1 = lambda x: x ** 3\n",
        "f2 = lambda x,y: x+y"
      ],
      "metadata": {
        "id": "xJlL5zYK1RWv"
      },
      "execution_count": null,
      "outputs": []
    },
    {
      "cell_type": "code",
      "source": [
        "print('f1(2)   = ', f1(2))\n",
        "print('f2(1,1) = ', f2(1,1))"
      ],
      "metadata": {
        "id": "U6maSWV41X61",
        "colab": {
          "base_uri": "https://localhost:8080/"
        },
        "outputId": "00866c57-72a0-43ca-becd-6a582e0d38a4"
      },
      "execution_count": null,
      "outputs": [
        {
          "output_type": "stream",
          "name": "stdout",
          "text": [
            "f1(2)   =  8\n",
            "f2(1,1) =  2\n"
          ]
        }
      ]
    },
    {
      "cell_type": "code",
      "source": [
        "# Las funciones se definen utilizando la palabra clave def.\n",
        "def do_stuff(a, b):\n",
        "     return a * b\n",
        "\n",
        "# Y llamado con los argumentos entre paréntesis.\n",
        "print('\\ndo_stuff =',do_stuff(2, 3))\n",
        "\n",
        "# La función Python también puede tener argumentos opcionales.\n",
        "def do_more_stuff(a, b, potencia = 1):\n",
        "    return(a * b) ** potencia\n",
        "\n",
        "print('\\ndo_more_stuff =',do_more_stuff(2, 3))\n",
        "print('\\ndo_more_stuff =',do_more_stuff(2, 3, potencia = 3))\n",
        "\n",
        "# Para funciones más complejas, a menudo es una buena idea\n",
        "# nombre explícitamente los argumentos. Esto es más fácil de leer y menos propenso a errores.\n",
        "print('\\ndo_more_stuff =',do_more_stuff(a = 2, b = 3, potencia = 3))"
      ],
      "metadata": {
        "id": "Y3gVKyK01aN3",
        "colab": {
          "base_uri": "https://localhost:8080/"
        },
        "outputId": "53bf2561-bc5e-4a30-c11e-eb7c92f0624c"
      },
      "execution_count": null,
      "outputs": [
        {
          "output_type": "stream",
          "name": "stdout",
          "text": [
            "\n",
            "do_stuff = 6\n",
            "\n",
            "do_more_stuff = 6\n",
            "\n",
            "do_more_stuff = 216\n",
            "\n",
            "do_more_stuff = 216\n"
          ]
        }
      ]
    },
    {
      "cell_type": "markdown",
      "source": [
        "La segunda estructura de flujo de control crucial es condicional `if/else` y funcionan igual que en cualquier otro idioma."
      ],
      "metadata": {
        "id": "SoTdnDJo1eTI"
      }
    },
    {
      "cell_type": "code",
      "source": [
        "# If/else funciona como se esperaba.\n",
        "edad = 77\n",
        "\n",
        "if edad >= 0 and edad < 10:\n",
        "    print(\"Menor de diez.\")\n",
        "elif edad >= 10:\n",
        "    print(\"Mayor de diez.\")\n",
        "else:\n",
        "    print(\"Wait what?\")"
      ],
      "metadata": {
        "id": "Lc46QIYZ1e1O",
        "colab": {
          "base_uri": "https://localhost:8080/"
        },
        "outputId": "bcfceae7-7583-48d4-b2dc-b580e2271c4b"
      },
      "execution_count": null,
      "outputs": [
        {
          "output_type": "stream",
          "name": "stdout",
          "text": [
            "Mayor de diez.\n"
          ]
        }
      ]
    },
    {
      "cell_type": "code",
      "source": [
        "def f3(x):\n",
        "    if x > 2:\n",
        "        return 0\n",
        "    else:\n",
        "        return 1"
      ],
      "metadata": {
        "id": "PBtpdFNQ1jS7"
      },
      "execution_count": null,
      "outputs": []
    },
    {
      "cell_type": "code",
      "source": [
        "print('f3(-1) = ', f3(-1))\n",
        "print('f3(3)  = ',f3(3))\n",
        "print('f3(-10) = ', f3(-10))\n",
        "print('f3(38)  = ',f3(38))"
      ],
      "metadata": {
        "id": "ljKQomVu1lGN",
        "colab": {
          "base_uri": "https://localhost:8080/"
        },
        "outputId": "d97d94fe-960b-4273-a82f-be2870a808b7"
      },
      "execution_count": null,
      "outputs": [
        {
          "output_type": "stream",
          "name": "stdout",
          "text": [
            "f3(-1) =  1\n",
            "f3(3)  =  0\n",
            "f3(-10) =  1\n",
            "f3(38)  =  0\n"
          ]
        }
      ]
    },
    {
      "cell_type": "code",
      "source": [
        "def cuadratic(x):\n",
        "    if x !=0:\n",
        "        return x**2\n",
        "    else:\n",
        "        return 0"
      ],
      "metadata": {
        "id": "GTQUxLDW1nNX"
      },
      "execution_count": null,
      "outputs": []
    },
    {
      "cell_type": "code",
      "source": [
        "print('cuadratic(-1) = ',cuadratic(-1))\n",
        "print('cuadratic(3)  = ',cuadratic(3))\n",
        "print('cuadratic(-2) = ',cuadratic(-2))\n",
        "print('cuadratic(3)  = ',cuadratic(3))"
      ],
      "metadata": {
        "id": "uNyzu9tt1pyN",
        "colab": {
          "base_uri": "https://localhost:8080/"
        },
        "outputId": "7af87966-e7cf-4c07-8043-161e050a04ed"
      },
      "execution_count": null,
      "outputs": [
        {
          "output_type": "stream",
          "name": "stdout",
          "text": [
            "cuadratic(-1) =  1\n",
            "cuadratic(3)  =  9\n",
            "cuadratic(-2) =  4\n",
            "cuadratic(3)  =  9\n"
          ]
        }
      ]
    },
    {
      "cell_type": "markdown",
      "source": [
        "Gran parte del ecosistema científico de Python utiliza NumPy, un paquete de cálculo de matrices que ofrece matrices de tipo N-dimensional y funciones útiles para álgebra lineal, transformadas de Fourier, números aleatorios y otras tareas científicas básicas."
      ],
      "metadata": {
        "id": "YYfbyeWb1vjE"
      }
    },
    {
      "cell_type": "code",
      "source": [
        "# Cree una matriz grande con 1 millón de muestras.\n",
        "x = np.linspace(0, 100,10**6, dtype=np.float64)\n",
        "\n",
        "\n",
        "# La mayoría de las operaciones funcionan por elemento.\n",
        "y = x ** 2\n",
        "\n",
        "# Utiliza C y Fortran debajo para mayor velocidad.\n",
        "print(y.sum())\n",
        "\n",
        "# FFT e inverso\n",
        "x = np.random.random(100)\n",
        "large_X = np.fft.fft(x)\n",
        "x = np.fft.ifft(large_X)"
      ],
      "metadata": {
        "id": "UgWYERVR1wXV",
        "colab": {
          "base_uri": "https://localhost:8080/"
        },
        "outputId": "07a738b6-0afd-4624-c765-b4558c2b7342"
      },
      "execution_count": null,
      "outputs": [
        {
          "output_type": "stream",
          "name": "stdout",
          "text": [
            "3333335000.001667\n"
          ]
        }
      ]
    },
    {
      "cell_type": "markdown",
      "source": [
        "El trazado se realiza mediante `Matplotlib`, un paquete para crear gráficos estáticos de alta calidad. Tiene una interfaz que imita a Matlab con la que mucha gente está familiarizada.\n",
        "\n",
        "Usamos el paquete Matplotlib para hacer plots. La segunda línea del código siguiente se usa sólo en Notebooks pero no en línea de comando o en Spyder."
      ],
      "metadata": {
        "id": "SL30Gt2110Rj"
      }
    },
    {
      "cell_type": "code",
      "source": [
        "import matplotlib.pyplot as plt\n",
        "#%matplotlib inline\n",
        "plt.rcParams['figure.figsize'] = 8, 5 "
      ],
      "metadata": {
        "id": "wdn7UJpj107O"
      },
      "execution_count": null,
      "outputs": []
    },
    {
      "cell_type": "markdown",
      "source": [
        "### <span style=\"color:navy\"> **Plot función real de una variable**</span>"
      ],
      "metadata": {
        "id": "Evh6-4BW2C-5"
      }
    },
    {
      "cell_type": "code",
      "source": [
        "x = np.linspace(-1,2)              # malla\n",
        "f = lambda x : x**3 - 2*x**2 + 1   # función \n",
        "OX = 0*x                           # eje OX"
      ],
      "metadata": {
        "id": "6S7S03eT14jJ"
      },
      "execution_count": null,
      "outputs": []
    },
    {
      "cell_type": "code",
      "source": [
        "plt.plot(x,f(x))                   # dibujar la función\n",
        "plt.plot(x,OX,'k-')                # dibujar el eje X\n",
        "plt.xlabel('x')\n",
        "plt.ylabel('y')\n",
        "plt.title(u'función')\n",
        "plt.grid()\n",
        "plt.show()"
      ],
      "metadata": {
        "id": "OzQmJaRi2Fb-",
        "colab": {
          "base_uri": "https://localhost:8080/",
          "height": 350
        },
        "outputId": "8f6e1544-eb80-42e3-84d8-84f317215ca0"
      },
      "execution_count": null,
      "outputs": [
        {
          "output_type": "display_data",
          "data": {
            "text/plain": [
              "<Figure size 576x360 with 1 Axes>"
            ],
            "image/png": "[encoded data removed]"
          },
          "metadata": {
            "needs_background": "light"
          }
        }
      ]
    },
    {
      "cell_type": "code",
      "source": [
        "x = np.linspace(-2,4.5)              # malla\n",
        "f = lambda x : x**3 - 4*x**2   # función \n",
        "OX = 0*x     \n",
        "\n",
        "plt.plot(x,f(x),'*')                   # dibujar la función\n",
        "plt.plot(x,OX,'k.')                # dibujar el eje X\n",
        "plt.xlabel('x')\n",
        "plt.ylabel('y')\n",
        "plt.title(u'función')\n",
        "plt.grid()\n",
        "plt.show()"
      ],
      "metadata": {
        "id": "wp3c6Yr42H6W",
        "colab": {
          "base_uri": "https://localhost:8080/",
          "height": 350
        },
        "outputId": "f51e3a5e-4610-4846-d5df-4b35c247d809"
      },
      "execution_count": null,
      "outputs": [
        {
          "output_type": "display_data",
          "data": {
            "text/plain": [
              "<Figure size 576x360 with 1 Axes>"
            ],
            "image/png": "[encoded data removed]"
          },
          "metadata": {
            "needs_background": "light"
          }
        }
      ]
    },
    {
      "cell_type": "code",
      "source": [
        "plt.plot(np.sin(np.linspace(0, 2 * np.pi, 2000)), color=\"green\",\n",
        "         label=\"Some Curve\")\n",
        "plt.plot(0*np.linspace(0, 2 * np.pi, 2000),'k') \n",
        "plt.legend()\n",
        "plt.grid()\n",
        "plt.ylim(-1.1, 1.1)\n",
        "plt.show()"
      ],
      "metadata": {
        "id": "oKlHiYsQ2NIJ",
        "colab": {
          "base_uri": "https://localhost:8080/",
          "height": 320
        },
        "outputId": "86b51b73-3724-408c-b1d0-38e48f4c672b"
      },
      "execution_count": null,
      "outputs": [
        {
          "output_type": "display_data",
          "data": {
            "text/plain": [
              "<Figure size 576x360 with 1 Axes>"
            ],
            "image/png": "[encoded data removed]"
          },
          "metadata": {
            "needs_background": "light"
          }
        }
      ]
    },
    {
      "cell_type": "markdown",
      "source": [
        "### <span style=\"color:navy\"> **Plot de una función real de dos variables**</span>\n",
        "Creamos una malla para la coordenada 𝑥 y otra para la coordenada 𝑦. Es decir, por ejemplo, 20 puntos igualmente espaciados entre −1 y 1 para cada coordenada."
      ],
      "metadata": {
        "id": "1jXWK_7J2Pd3"
      }
    },
    {
      "cell_type": "code",
      "source": [
        "xgrid = np.linspace(-1,1,20)\n",
        "ygrid = np.linspace(-1,1,20)"
      ],
      "metadata": {
        "id": "Xaoc8ln42To6"
      },
      "execution_count": null,
      "outputs": []
    },
    {
      "cell_type": "markdown",
      "source": [
        "Creamos ahora dos matrices que contienen la malla bidimensional"
      ],
      "metadata": {
        "id": "eo7dR6hl2Zx_"
      }
    },
    {
      "cell_type": "code",
      "source": [
        "X, Y = np.meshgrid(xgrid,ygrid)"
      ],
      "metadata": {
        "id": "IJr6mCLh2b-k"
      },
      "execution_count": null,
      "outputs": []
    },
    {
      "cell_type": "markdown",
      "source": [
        "Definimos la función de dos variables"
      ],
      "metadata": {
        "id": "C8Qxb7oX2fQ1"
      }
    },
    {
      "cell_type": "code",
      "source": [
        "g = lambda x,y: x**2 + y**2"
      ],
      "metadata": {
        "id": "NyMEwdrz2gHX"
      },
      "execution_count": null,
      "outputs": []
    },
    {
      "cell_type": "markdown",
      "source": [
        "Y representamos la función usando diferentes colores para cada intervalo de valores de la función"
      ],
      "metadata": {
        "id": "t5grgcmq2jjG"
      }
    },
    {
      "cell_type": "code",
      "source": [
        "plt.contourf(X,Y,g(X,Y), cmap='jet')\n",
        "plt.colorbar()\n",
        "plt.show()"
      ],
      "metadata": {
        "id": "lwGNXbU62kB3",
        "colab": {
          "base_uri": "https://localhost:8080/",
          "height": 324
        },
        "outputId": "09d02d38-2f79-4c24-9c49-e02c6c09696e"
      },
      "execution_count": null,
      "outputs": [
        {
          "output_type": "display_data",
          "data": {
            "text/plain": [
              "<Figure size 576x360 with 2 Axes>"
            ],
            "image/png": "[encoded data removed]"
          },
          "metadata": {
            "needs_background": "light"
          }
        }
      ]
    },
    {
      "cell_type": "code",
      "source": [
        "from mpl_toolkits.mplot3d import Axes3D\n",
        "\n",
        "fig1  = plt.figure(figsize=(10,5))\n",
        "ax1   = fig1.gca(projection='3d')\n",
        "ax1.plot_surface(X, Y, g(X,Y), cmap='jet')\n",
        "plt.show()"
      ],
      "metadata": {
        "id": "kgR0CjC92lzz",
        "colab": {
          "base_uri": "https://localhost:8080/",
          "height": 303
        },
        "outputId": "5000ef37-f893-4ea1-d27c-21b0bf06e3c5"
      },
      "execution_count": null,
      "outputs": [
        {
          "output_type": "display_data",
          "data": {
            "text/plain": [
              "<Figure size 720x360 with 1 Axes>"
            ],
            "image/png": "[encoded data removed]"
          },
          "metadata": {
            "needs_background": "light"
          }
        }
      ]
    },
    {
      "cell_type": "code",
      "source": [
        "# AGregando malla\n",
        "\n",
        "fig2  = plt.figure(figsize=(10,5))\n",
        "ax2   = fig2.gca(projection='3d')\n",
        "ax2.plot_wireframe(X, Y, g(X,Y))\n",
        "plt.show()"
      ],
      "metadata": {
        "id": "ep-SsWCG2pFV",
        "colab": {
          "base_uri": "https://localhost:8080/",
          "height": 303
        },
        "outputId": "de014c20-7fa5-4eb7-f96e-552bb488269e"
      },
      "execution_count": null,
      "outputs": [
        {
          "output_type": "display_data",
          "data": {
            "text/plain": [
              "<Figure size 720x360 with 1 Axes>"
            ],
            "image/png": "[encoded data removed]"
          },
          "metadata": {
            "needs_background": "light"
          }
        }
      ]
    },
    {
      "cell_type": "markdown",
      "source": [
        "## <span style=\"color:navy\"> **Ejercicios**</span>\n",
        "\n",
        "**Ejercicio 1:** Guarde su nombre en letras minúsculas en una variable e imprima una versión en mayúscula. `Protip:` Googlear para \"Cómo capitalizar una cadena en Python\". Esto funciona para casi cualquier problema de programación: ¡alguien habrá tenido el mismo problema antes!\n",
        "\n",
        "**Ejercicio 2:** \n",
        "\n",
        "    A. Escribe una función que tome una matriz NumPy `x` y  `a`, `b`, and `c` y retorne $$f(x)= ax^2+bx+c$$\n",
        "\n",
        "    B. Grafique el resultado de esa función con matplotlib."
      ],
      "metadata": {
        "id": "PfuypK_E2vro"
      }
    },
    {
      "cell_type": "markdown",
      "source": [
        "\n",
        "\n",
        "---\n",
        "\n",
        "## <span style=\"color:navy\"> **Gráfica de una función de una variable**</span>\n",
        "\n",
        "Importamos los módulos `matplotlib.pyplot` y `numpy`."
      ],
      "metadata": {
        "id": "fRElxstU29n4"
      }
    },
    {
      "cell_type": "code",
      "source": [
        "import numpy as np\n",
        "import matplotlib.pyplot as plt\n",
        "%matplotlib inline\n",
        "\n",
        "#plt.style.use('ggplot')                   # Matplotlib style sheet - nicer plots!\n",
        "plt.rcParams['figure.figsize'] = 8, 5      # plots un poco mas grandes"
      ],
      "metadata": {
        "id": "xRyvMT0h6t7H"
      },
      "execution_count": null,
      "outputs": []
    },
    {
      "cell_type": "markdown",
      "source": [
        "La función plot del módulo `matplotlib.pyplot` dibuja la función aproximada. Sustituye el dibujo de la función por el dibujo de una poligonal de puntos de la función. Veamos un ejemplo:\n",
        "\n",
        "Definimos la función a dibujar utilizando el método de funciones `lambda` $f(x)=e^x$ y $g(t)=\\sin(t)$,"
      ],
      "metadata": {
        "id": "VI_ygpzt6yzT"
      }
    },
    {
      "cell_type": "code",
      "source": [
        "f = lambda x: np.exp(x)\n",
        "\n",
        "g = lambda t: np.sin(t)"
      ],
      "metadata": {
        "id": "PwUL2x1F6w8m"
      },
      "execution_count": null,
      "outputs": []
    },
    {
      "cell_type": "markdown",
      "source": [
        "Decidimos el intervalo $[𝑎,𝑏]$ en el que vamos a crear la función $f(x)$ y $g(t)$"
      ],
      "metadata": {
        "id": "fimCZH6163Za"
      }
    },
    {
      "cell_type": "code",
      "source": [
        "a0 = -1.; bf = 1.\n",
        "t0 = 0 ; tf = 2*np.pi"
      ],
      "metadata": {
        "id": "f9c20MpA65n7"
      },
      "execution_count": null,
      "outputs": []
    },
    {
      "cell_type": "markdown",
      "source": [
        "Creamos una malla con puntos equiespaciados en el intervalo $[𝑎,𝑏]$ que se almacena en un array numpy"
      ],
      "metadata": {
        "id": "FYjaBGq_67dJ"
      }
    },
    {
      "cell_type": "code",
      "source": [
        "ti = np.linspace(t0,tf, 20)\n",
        "xi = np.linspace(a0,bf,5)"
      ],
      "metadata": {
        "id": "24yTS3ZR67ni"
      },
      "execution_count": null,
      "outputs": []
    },
    {
      "cell_type": "code",
      "source": [
        "print('x = \\n',xi)\n",
        "print('\\n')\n",
        "print('t = \\n',ti)"
      ],
      "metadata": {
        "id": "tFsNQ_s068Xu",
        "colab": {
          "base_uri": "https://localhost:8080/"
        },
        "outputId": "98351b45-71e8-4040-a7e2-225357720e45"
      },
      "execution_count": null,
      "outputs": [
        {
          "output_type": "stream",
          "name": "stdout",
          "text": [
            "x = \n",
            " [-1.  -0.5  0.   0.5  1. ]\n",
            "\n",
            "\n",
            "t = \n",
            " [0.         0.33069396 0.66138793 0.99208189 1.32277585 1.65346982\n",
            " 1.98416378 2.31485774 2.64555171 2.97624567 3.30693964 3.6376336\n",
            " 3.96832756 4.29902153 4.62971549 4.96040945 5.29110342 5.62179738\n",
            " 5.95249134 6.28318531]\n"
          ]
        }
      ]
    },
    {
      "cell_type": "markdown",
      "source": [
        "Obtenemos el array numpy correspondiente a las 𝑦1 y 𝑦2"
      ],
      "metadata": {
        "id": "ipBMpjpd7KCb"
      }
    },
    {
      "cell_type": "code",
      "source": [
        "y1 = f(xi)\n",
        "y2 = g(ti)"
      ],
      "metadata": {
        "id": "j8wAiBQG7Dyc"
      },
      "execution_count": null,
      "outputs": []
    },
    {
      "cell_type": "code",
      "source": [
        "print('y1 = \\n',y1)\n",
        "print('\\n')\n",
        "print('y2 = \\n',y2)"
      ],
      "metadata": {
        "id": "mrU_qytG7F8E",
        "colab": {
          "base_uri": "https://localhost:8080/"
        },
        "outputId": "cbc60f45-4560-4d53-c670-03baf5e3b7a5"
      },
      "execution_count": null,
      "outputs": [
        {
          "output_type": "stream",
          "name": "stdout",
          "text": [
            "y1 = \n",
            " [0.36787944 0.60653066 1.         1.64872127 2.71828183]\n",
            "\n",
            "\n",
            "y2 = \n",
            " [ 0.00000000e+00  3.24699469e-01  6.14212713e-01  8.37166478e-01\n",
            "  9.69400266e-01  9.96584493e-01  9.15773327e-01  7.35723911e-01\n",
            "  4.75947393e-01  1.64594590e-01 -1.64594590e-01 -4.75947393e-01\n",
            " -7.35723911e-01 -9.15773327e-01 -9.96584493e-01 -9.69400266e-01\n",
            " -8.37166478e-01 -6.14212713e-01 -3.24699469e-01 -2.44929360e-16]\n"
          ]
        }
      ]
    },
    {
      "cell_type": "code",
      "source": [
        "plt.plot(y1)\n",
        "plt.grid()\n",
        "plt.show()"
      ],
      "metadata": {
        "id": "02JWnXvK7MrG",
        "colab": {
          "base_uri": "https://localhost:8080/",
          "height": 320
        },
        "outputId": "8e237fb7-3168-44ed-eca7-5a4894a6d5d5"
      },
      "execution_count": null,
      "outputs": [
        {
          "output_type": "display_data",
          "data": {
            "text/plain": [
              "<Figure size 576x360 with 1 Axes>"
            ],
            "image/png": "[encoded data removed]"
          },
          "metadata": {
            "needs_background": "light"
          }
        }
      ]
    },
    {
      "cell_type": "code",
      "source": [
        "ot = 0*ti                               # array numpy con 50 ceros. Para dibujar el eje OX\n",
        "plt.plot(ti,y2,color = 'r',label = 'g')\n",
        "plt.plot(ti,ot,'k', label = 'Eje OT')   # k, de \"black\" para que nos dibuje el eje OX en negro\n",
        "plt.title('Ejemplo dibujo función g(t)') # u delante de las comillas porque hay un acento\n",
        "plt.grid()\n",
        "plt.legend()                           # usando los \"label\", añade una leyenda\n",
        "plt.show()"
      ],
      "metadata": {
        "id": "ue-sA62I7NIi",
        "colab": {
          "base_uri": "https://localhost:8080/",
          "height": 336
        },
        "outputId": "a1e1207d-9691-4e96-d0e6-2c0f669f82b5"
      },
      "execution_count": null,
      "outputs": [
        {
          "output_type": "display_data",
          "data": {
            "text/plain": [
              "<Figure size 576x360 with 1 Axes>"
            ],
            "image/png": "[encoded data removed]"
          },
          "metadata": {
            "needs_background": "light"
          }
        }
      ]
    },
    {
      "cell_type": "markdown",
      "source": [
        "### <span style=\"color:navy\"> **Bucle For**</span>\n",
        "Recordemos la sintaxis de un bucle <span style=\"color:green\"> **for**</span>"
      ],
      "metadata": {
        "id": "c8o2qlR67Cqu"
      }
    },
    {
      "cell_type": "code",
      "source": [
        "temp = [\"a\", \"b\", \"c\"]\n",
        "\n",
        "# El bucle típico de Python es un bucle para cada, p. Ej.\n",
        "\n",
        "for item in temp:\n",
        "    # Todo lo que tenga la misma sangría es parte del ciclo.\n",
        "    new_item = item + \" \" + item\n",
        "    print(new_item)\n",
        "\n",
        "print(\"No forma parte del bucle.\")"
      ],
      "metadata": {
        "id": "JRJ18LFN7Rhv",
        "colab": {
          "base_uri": "https://localhost:8080/"
        },
        "outputId": "c94eff67-cebb-466b-df75-bff2fbe291d8"
      },
      "execution_count": null,
      "outputs": [
        {
          "output_type": "stream",
          "name": "stdout",
          "text": [
            "a a\n",
            "b b\n",
            "c c\n",
            "No forma parte del bucle.\n"
          ]
        }
      ]
    },
    {
      "cell_type": "code",
      "source": [
        "# Es útil saber la función range().\n",
        "for i in range(5):\n",
        "    print(i)"
      ],
      "metadata": {
        "id": "9FzoJ-6O7VE4",
        "colab": {
          "base_uri": "https://localhost:8080/"
        },
        "outputId": "13a9484b-fbea-4832-b8d2-e9729dba71ac"
      },
      "execution_count": null,
      "outputs": [
        {
          "output_type": "stream",
          "name": "stdout",
          "text": [
            "0\n",
            "1\n",
            "2\n",
            "3\n",
            "4\n"
          ]
        }
      ]
    },
    {
      "cell_type": "code",
      "source": [
        "for i in range(4):\n",
        "    print(i)"
      ],
      "metadata": {
        "id": "ewOLWlW77XGz",
        "colab": {
          "base_uri": "https://localhost:8080/"
        },
        "outputId": "e33f4bda-5749-47b5-f4a8-5c3bd778df7c"
      },
      "execution_count": null,
      "outputs": [
        {
          "output_type": "stream",
          "name": "stdout",
          "text": [
            "0\n",
            "1\n",
            "2\n",
            "3\n"
          ]
        }
      ]
    },
    {
      "cell_type": "code",
      "source": [
        "for i in range(1,4):\n",
        "    print(i)"
      ],
      "metadata": {
        "id": "k3_hN00h7YpK",
        "colab": {
          "base_uri": "https://localhost:8080/"
        },
        "outputId": "cd79d17d-4496-49dd-d584-8ab2e6d5d4e0"
      },
      "execution_count": null,
      "outputs": [
        {
          "output_type": "stream",
          "name": "stdout",
          "text": [
            "1\n",
            "2\n",
            "3\n"
          ]
        }
      ]
    },
    {
      "cell_type": "code",
      "source": [
        "# Las listas por comprensión son una buena forma de escribir bucles compactos.\n",
        "# Asegúrese de entender esto ya que es muy común en Python.\n",
        "\n",
        "a = list(range(10))\n",
        "print(a)\n",
        "b = [i for i in a if not i % 2]\n",
        "print(b)\n",
        "\n",
        "# Bucle equivalente para b.\n",
        "b = []\n",
        "for i in a:\n",
        "    if not i % 2:\n",
        "        b.append(i)\n",
        "print(b)"
      ],
      "metadata": {
        "id": "CVi4jRYE7bfs",
        "colab": {
          "base_uri": "https://localhost:8080/"
        },
        "outputId": "25161586-2580-434a-e875-636a82fd4be4"
      },
      "execution_count": null,
      "outputs": [
        {
          "output_type": "stream",
          "name": "stdout",
          "text": [
            "[0, 1, 2, 3, 4, 5, 6, 7, 8, 9]\n",
            "[0, 2, 4, 6, 8]\n",
            "[0, 2, 4, 6, 8]\n"
          ]
        }
      ]
    },
    {
      "cell_type": "markdown",
      "source": [
        "# **Error-por tipos en computadoras**\n",
        "\n",
        "\n",
        "---\n",
        "\n",
        "\n",
        "### **Error absoluto**\n",
        "\n",
        "Es la magnitud (sin signo) entre el valor «conocido» real $x$ y el valor «estimado» $X_k$.\n",
        "\n",
        "$$ ϵ_{abs} =∣x−x_k∣ $$\n",
        "\n",
        "\n",
        "El valor dependerá de la magnitud de $x$, por ejemplo:\n",
        "\n",
        "### **Error relativo**\n",
        "\n",
        "Continuando el tema del ejemplo anterior, se puede mejorar  dimensionando proporcionalmente los errores, es decir ponderarlos respecto a la magnitud usada.\n",
        "\n",
        "$$ ϵ_{rel} = \\dfrac{∣x−x_k∣}{x_k} $$\n",
        "\n",
        "Ponderar el error, calculando el error relativo para ambos \n"
      ],
      "metadata": {
        "id": "IZ3WonXxs01o"
      }
    },
    {
      "cell_type": "code",
      "execution_count": null,
      "metadata": {
        "id": "_7sCpQPTsJoX"
      },
      "outputs": [],
      "source": []
    },
    {
      "cell_type": "markdown",
      "source": [],
      "metadata": {
        "id": "vmBGmemYszbK"
      }
    }
  ]
}